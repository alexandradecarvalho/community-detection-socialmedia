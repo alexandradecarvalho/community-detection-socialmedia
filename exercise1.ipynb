{
 "cells": [
  {
   "cell_type": "markdown",
   "metadata": {},
   "source": [
    "# Assignment 2\n",
    "By Alexandra de Carvalho and Nuno Pedrosa"
   ]
  },
  {
   "cell_type": "markdown",
   "metadata": {},
   "source": [
    "## Importing Modules"
   ]
  },
  {
   "cell_type": "code",
   "execution_count": 13,
   "metadata": {},
   "outputs": [],
   "source": [
    "import numpy as np"
   ]
  },
  {
   "cell_type": "markdown",
   "metadata": {},
   "source": [
    "## Pre-Processing\n",
    "### Constructing a Laplacian matrix to represent the graph "
   ]
  },
  {
   "cell_type": "code",
   "execution_count": 18,
   "metadata": {},
   "outputs": [],
   "source": [
    "ego = 0"
   ]
  },
  {
   "cell_type": "markdown",
   "metadata": {},
   "source": [
    "From the feat file, get an ordered list of the friends / nodes."
   ]
  },
  {
   "cell_type": "code",
   "execution_count": 11,
   "metadata": {},
   "outputs": [],
   "source": [
    "with open(\"facebook/\" + str(ego) +\".feat\") as f:\n",
    "    friends = []\n",
    "    for line in f:\n",
    "        friends += [int(line.split(\" \")[0])]"
   ]
  },
  {
   "cell_type": "markdown",
   "metadata": {},
   "source": [
    "From the edges file, get a list of connections between nodes."
   ]
  },
  {
   "cell_type": "code",
   "execution_count": 7,
   "metadata": {},
   "outputs": [],
   "source": [
    "with open(\"facebook/\" + str(ego) +\".edges\") as f:\n",
    "    edges = []\n",
    "    for line in f:\n",
    "        edges.append(list(map(int, line.strip().split(\" \"))))"
   ]
  },
  {
   "cell_type": "markdown",
   "metadata": {},
   "source": [
    "#### Adjacency Matrix"
   ]
  },
  {
   "cell_type": "code",
   "execution_count": 32,
   "metadata": {},
   "outputs": [],
   "source": [
    "adj_matrix = np.zeros((len(friends) + 1, len(friends) + 1))\n",
    "\n",
    "# every node is connected to ego\n",
    "for row_idx in range(len(adj_matrix)):\n",
    "    adj_matrix[row_idx][ego] = 1\n",
    "    adj_matrix[ego] = np.ones(len(friends) + 1)\n",
    "    adj_matrix[ego][ego] = 0\n",
    "\n",
    "# now we add the edges from the edges file\n",
    "for edge in edges:\n",
    "    adj_matrix[edge[0]][edge[1]] = 1\n",
    "    adj_matrix[edge[1]][edge[0]] = 1"
   ]
  },
  {
   "cell_type": "markdown",
   "metadata": {},
   "source": [
    "#### Degree Matrix"
   ]
  },
  {
   "cell_type": "code",
   "execution_count": 33,
   "metadata": {},
   "outputs": [],
   "source": [
    "deg_matrix = np.zeros((len(friends) + 1, len(friends) + 1))\n",
    "\n",
    "for row_idx in range(len(adj_matrix)):\n",
    "    deg_matrix[row_idx][row_idx] = np.count_nonzero(adj_matrix[row_idx] == 1)"
   ]
  },
  {
   "cell_type": "markdown",
   "metadata": {},
   "source": [
    "#### Laplacian Matrix"
   ]
  },
  {
   "cell_type": "code",
   "execution_count": 36,
   "metadata": {},
   "outputs": [
    {
     "data": {
      "text/plain": [
       "array([[347.,  -1.,  -1., ...,  -1.,  -1.,  -1.],\n",
       "       [ -1.,  17.,   0., ...,   0.,  -1.,   0.],\n",
       "       [ -1.,   0.,  10., ...,   0.,   0.,   0.],\n",
       "       ...,\n",
       "       [ -1.,   0.,   0., ...,  16.,   0.,   0.],\n",
       "       [ -1.,  -1.,   0., ...,   0.,  27.,   0.],\n",
       "       [ -1.,   0.,   0., ...,   0.,   0.,   7.]])"
      ]
     },
     "execution_count": 36,
     "metadata": {},
     "output_type": "execute_result"
    }
   ],
   "source": [
    "lap_matrix = np.subtract(deg_matrix, adj_matrix)\n",
    "lap_matrix"
   ]
  },
  {
   "cell_type": "markdown",
   "metadata": {},
   "source": [
    "## Decomposition\n",
    "### Computing eigenvalues and eigenvectors of the matrix "
   ]
  },
  {
   "cell_type": "code",
   "execution_count": 44,
   "metadata": {},
   "outputs": [],
   "source": [
    "eigenvals, eigenvects = np.linalg.eig(lap_matrix)\n",
    "reduced = [x[1] for x in eigenvects]"
   ]
  },
  {
   "cell_type": "markdown",
   "metadata": {},
   "source": [
    "## Determining the Number of Clusters\n",
    "### Using the eigengap approach"
   ]
  },
  {
   "cell_type": "code",
   "execution_count": null,
   "metadata": {},
   "outputs": [],
   "source": []
  },
  {
   "cell_type": "markdown",
   "metadata": {},
   "source": [
    "## Clustering\n",
    "### Grouping points based on the new representation"
   ]
  },
  {
   "cell_type": "code",
   "execution_count": null,
   "metadata": {},
   "outputs": [],
   "source": []
  },
  {
   "cell_type": "markdown",
   "metadata": {},
   "source": [
    "## Evaluating Results\n",
    "### Similarity of the resulting clusters to the gold standard"
   ]
  },
  {
   "cell_type": "code",
   "execution_count": null,
   "metadata": {},
   "outputs": [],
   "source": []
  },
  {
   "cell_type": "markdown",
   "metadata": {},
   "source": [
    "## Weighted Graph"
   ]
  }
 ],
 "metadata": {
  "interpreter": {
   "hash": "916dbcbb3f70747c44a77c7bcd40155683ae19c65e1c03b4aa3499c5328201f1"
  },
  "kernelspec": {
   "display_name": "Python 3.10.4 64-bit",
   "language": "python",
   "name": "python3"
  },
  "language_info": {
   "codemirror_mode": {
    "name": "ipython",
    "version": 3
   },
   "file_extension": ".py",
   "mimetype": "text/x-python",
   "name": "python",
   "nbconvert_exporter": "python",
   "pygments_lexer": "ipython3",
   "version": "3.10.4"
  },
  "orig_nbformat": 4
 },
 "nbformat": 4,
 "nbformat_minor": 2
}
